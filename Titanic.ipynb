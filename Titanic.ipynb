{
 "cells": [
  {
   "cell_type": "code",
   "execution_count": 3,
   "metadata": {
    "collapsed": false
   },
   "outputs": [],
   "source": [
    "import pandas as pd\n",
    "import seaborn as sns\n",
    "import matplotlib.pyplot as plt\n",
    "import numpy as np\n",
    "import warnings\n",
    "from time import time\n",
    "\n",
    "from sklearn.preprocessing import LabelEncoder\n",
    "from sklearn import ensemble, model_selection, metrics\n",
    "\n",
    "sns.set_style(style='whitegrid')\n",
    "warnings.filterwarnings('ignore')"
   ]
  },
  {
   "cell_type": "code",
   "execution_count": 6,
   "metadata": {
    "collapsed": false
   },
   "outputs": [],
   "source": [
    "train_data = pd.read_csv('./data/train.csv')\n",
    "test_data = pd.read_csv('./data/test.csv')"
   ]
  },
  {
   "cell_type": "markdown",
   "metadata": {},
   "source": [
    "# Data Analysis"
   ]
  },
  {
   "cell_type": "code",
   "execution_count": 7,
   "metadata": {
    "collapsed": false
   },
   "outputs": [
    {
     "data": {
      "text/html": [
       "<div>\n",
       "<style scoped>\n",
       "    .dataframe tbody tr th:only-of-type {\n",
       "        vertical-align: middle;\n",
       "    }\n",
       "\n",
       "    .dataframe tbody tr th {\n",
       "        vertical-align: top;\n",
       "    }\n",
       "\n",
       "    .dataframe thead th {\n",
       "        text-align: right;\n",
       "    }\n",
       "</style>\n",
       "<table border=\"1\" class=\"dataframe\">\n",
       "  <thead>\n",
       "    <tr style=\"text-align: right;\">\n",
       "      <th></th>\n",
       "      <th>PassengerId</th>\n",
       "      <th>Survived</th>\n",
       "      <th>Pclass</th>\n",
       "      <th>Name</th>\n",
       "      <th>Sex</th>\n",
       "      <th>Age</th>\n",
       "      <th>SibSp</th>\n",
       "      <th>Parch</th>\n",
       "      <th>Ticket</th>\n",
       "      <th>Fare</th>\n",
       "      <th>Cabin</th>\n",
       "      <th>Embarked</th>\n",
       "    </tr>\n",
       "  </thead>\n",
       "  <tbody>\n",
       "    <tr>\n",
       "      <th>0</th>\n",
       "      <td>1</td>\n",
       "      <td>0</td>\n",
       "      <td>3</td>\n",
       "      <td>Braund, Mr. Owen Harris</td>\n",
       "      <td>male</td>\n",
       "      <td>22.0</td>\n",
       "      <td>1</td>\n",
       "      <td>0</td>\n",
       "      <td>A/5 21171</td>\n",
       "      <td>7.2500</td>\n",
       "      <td>NaN</td>\n",
       "      <td>S</td>\n",
       "    </tr>\n",
       "    <tr>\n",
       "      <th>1</th>\n",
       "      <td>2</td>\n",
       "      <td>1</td>\n",
       "      <td>1</td>\n",
       "      <td>Cumings, Mrs. John Bradley (Florence Briggs Th...</td>\n",
       "      <td>female</td>\n",
       "      <td>38.0</td>\n",
       "      <td>1</td>\n",
       "      <td>0</td>\n",
       "      <td>PC 17599</td>\n",
       "      <td>71.2833</td>\n",
       "      <td>C85</td>\n",
       "      <td>C</td>\n",
       "    </tr>\n",
       "    <tr>\n",
       "      <th>2</th>\n",
       "      <td>3</td>\n",
       "      <td>1</td>\n",
       "      <td>3</td>\n",
       "      <td>Heikkinen, Miss. Laina</td>\n",
       "      <td>female</td>\n",
       "      <td>26.0</td>\n",
       "      <td>0</td>\n",
       "      <td>0</td>\n",
       "      <td>STON/O2. 3101282</td>\n",
       "      <td>7.9250</td>\n",
       "      <td>NaN</td>\n",
       "      <td>S</td>\n",
       "    </tr>\n",
       "    <tr>\n",
       "      <th>3</th>\n",
       "      <td>4</td>\n",
       "      <td>1</td>\n",
       "      <td>1</td>\n",
       "      <td>Futrelle, Mrs. Jacques Heath (Lily May Peel)</td>\n",
       "      <td>female</td>\n",
       "      <td>35.0</td>\n",
       "      <td>1</td>\n",
       "      <td>0</td>\n",
       "      <td>113803</td>\n",
       "      <td>53.1000</td>\n",
       "      <td>C123</td>\n",
       "      <td>S</td>\n",
       "    </tr>\n",
       "    <tr>\n",
       "      <th>4</th>\n",
       "      <td>5</td>\n",
       "      <td>0</td>\n",
       "      <td>3</td>\n",
       "      <td>Allen, Mr. William Henry</td>\n",
       "      <td>male</td>\n",
       "      <td>35.0</td>\n",
       "      <td>0</td>\n",
       "      <td>0</td>\n",
       "      <td>373450</td>\n",
       "      <td>8.0500</td>\n",
       "      <td>NaN</td>\n",
       "      <td>S</td>\n",
       "    </tr>\n",
       "  </tbody>\n",
       "</table>\n",
       "</div>"
      ],
      "text/plain": [
       "   PassengerId  Survived  Pclass  \\\n",
       "0            1         0       3   \n",
       "1            2         1       1   \n",
       "2            3         1       3   \n",
       "3            4         1       1   \n",
       "4            5         0       3   \n",
       "\n",
       "                                                Name     Sex   Age  SibSp  \\\n",
       "0                            Braund, Mr. Owen Harris    male  22.0      1   \n",
       "1  Cumings, Mrs. John Bradley (Florence Briggs Th...  female  38.0      1   \n",
       "2                             Heikkinen, Miss. Laina  female  26.0      0   \n",
       "3       Futrelle, Mrs. Jacques Heath (Lily May Peel)  female  35.0      1   \n",
       "4                           Allen, Mr. William Henry    male  35.0      0   \n",
       "\n",
       "   Parch            Ticket     Fare Cabin Embarked  \n",
       "0      0         A/5 21171   7.2500   NaN        S  \n",
       "1      0          PC 17599  71.2833   C85        C  \n",
       "2      0  STON/O2. 3101282   7.9250   NaN        S  \n",
       "3      0            113803  53.1000  C123        S  \n",
       "4      0            373450   8.0500   NaN        S  "
      ]
     },
     "execution_count": 7,
     "metadata": {},
     "output_type": "execute_result"
    }
   ],
   "source": [
    "train_data.head(5)"
   ]
  },
  {
   "cell_type": "code",
   "execution_count": 8,
   "metadata": {
    "collapsed": false
   },
   "outputs": [
    {
     "data": {
      "text/html": [
       "<div>\n",
       "<style scoped>\n",
       "    .dataframe tbody tr th:only-of-type {\n",
       "        vertical-align: middle;\n",
       "    }\n",
       "\n",
       "    .dataframe tbody tr th {\n",
       "        vertical-align: top;\n",
       "    }\n",
       "\n",
       "    .dataframe thead th {\n",
       "        text-align: right;\n",
       "    }\n",
       "</style>\n",
       "<table border=\"1\" class=\"dataframe\">\n",
       "  <thead>\n",
       "    <tr style=\"text-align: right;\">\n",
       "      <th></th>\n",
       "      <th>PassengerId</th>\n",
       "      <th>Survived</th>\n",
       "      <th>Pclass</th>\n",
       "      <th>Age</th>\n",
       "      <th>SibSp</th>\n",
       "      <th>Parch</th>\n",
       "      <th>Fare</th>\n",
       "    </tr>\n",
       "  </thead>\n",
       "  <tbody>\n",
       "    <tr>\n",
       "      <th>count</th>\n",
       "      <td>891.000000</td>\n",
       "      <td>891.000000</td>\n",
       "      <td>891.000000</td>\n",
       "      <td>714.000000</td>\n",
       "      <td>891.000000</td>\n",
       "      <td>891.000000</td>\n",
       "      <td>891.000000</td>\n",
       "    </tr>\n",
       "    <tr>\n",
       "      <th>mean</th>\n",
       "      <td>446.000000</td>\n",
       "      <td>0.383838</td>\n",
       "      <td>2.308642</td>\n",
       "      <td>29.699118</td>\n",
       "      <td>0.523008</td>\n",
       "      <td>0.381594</td>\n",
       "      <td>32.204208</td>\n",
       "    </tr>\n",
       "    <tr>\n",
       "      <th>std</th>\n",
       "      <td>257.353842</td>\n",
       "      <td>0.486592</td>\n",
       "      <td>0.836071</td>\n",
       "      <td>14.526497</td>\n",
       "      <td>1.102743</td>\n",
       "      <td>0.806057</td>\n",
       "      <td>49.693429</td>\n",
       "    </tr>\n",
       "    <tr>\n",
       "      <th>min</th>\n",
       "      <td>1.000000</td>\n",
       "      <td>0.000000</td>\n",
       "      <td>1.000000</td>\n",
       "      <td>0.420000</td>\n",
       "      <td>0.000000</td>\n",
       "      <td>0.000000</td>\n",
       "      <td>0.000000</td>\n",
       "    </tr>\n",
       "    <tr>\n",
       "      <th>25%</th>\n",
       "      <td>223.500000</td>\n",
       "      <td>0.000000</td>\n",
       "      <td>2.000000</td>\n",
       "      <td>20.125000</td>\n",
       "      <td>0.000000</td>\n",
       "      <td>0.000000</td>\n",
       "      <td>7.910400</td>\n",
       "    </tr>\n",
       "    <tr>\n",
       "      <th>50%</th>\n",
       "      <td>446.000000</td>\n",
       "      <td>0.000000</td>\n",
       "      <td>3.000000</td>\n",
       "      <td>28.000000</td>\n",
       "      <td>0.000000</td>\n",
       "      <td>0.000000</td>\n",
       "      <td>14.454200</td>\n",
       "    </tr>\n",
       "    <tr>\n",
       "      <th>75%</th>\n",
       "      <td>668.500000</td>\n",
       "      <td>1.000000</td>\n",
       "      <td>3.000000</td>\n",
       "      <td>38.000000</td>\n",
       "      <td>1.000000</td>\n",
       "      <td>0.000000</td>\n",
       "      <td>31.000000</td>\n",
       "    </tr>\n",
       "    <tr>\n",
       "      <th>max</th>\n",
       "      <td>891.000000</td>\n",
       "      <td>1.000000</td>\n",
       "      <td>3.000000</td>\n",
       "      <td>80.000000</td>\n",
       "      <td>8.000000</td>\n",
       "      <td>6.000000</td>\n",
       "      <td>512.329200</td>\n",
       "    </tr>\n",
       "  </tbody>\n",
       "</table>\n",
       "</div>"
      ],
      "text/plain": [
       "       PassengerId    Survived      Pclass         Age       SibSp  \\\n",
       "count   891.000000  891.000000  891.000000  714.000000  891.000000   \n",
       "mean    446.000000    0.383838    2.308642   29.699118    0.523008   \n",
       "std     257.353842    0.486592    0.836071   14.526497    1.102743   \n",
       "min       1.000000    0.000000    1.000000    0.420000    0.000000   \n",
       "25%     223.500000    0.000000    2.000000   20.125000    0.000000   \n",
       "50%     446.000000    0.000000    3.000000   28.000000    0.000000   \n",
       "75%     668.500000    1.000000    3.000000   38.000000    1.000000   \n",
       "max     891.000000    1.000000    3.000000   80.000000    8.000000   \n",
       "\n",
       "            Parch        Fare  \n",
       "count  891.000000  891.000000  \n",
       "mean     0.381594   32.204208  \n",
       "std      0.806057   49.693429  \n",
       "min      0.000000    0.000000  \n",
       "25%      0.000000    7.910400  \n",
       "50%      0.000000   14.454200  \n",
       "75%      0.000000   31.000000  \n",
       "max      6.000000  512.329200  "
      ]
     },
     "execution_count": 8,
     "metadata": {},
     "output_type": "execute_result"
    }
   ],
   "source": [
    "train_data.describe()"
   ]
  },
  {
   "cell_type": "code",
   "execution_count": 9,
   "metadata": {
    "collapsed": false
   },
   "outputs": [
    {
     "data": {
      "text/plain": [
       "PassengerId      0\n",
       "Pclass           0\n",
       "Name             0\n",
       "Sex              0\n",
       "Age             86\n",
       "SibSp            0\n",
       "Parch            0\n",
       "Ticket           0\n",
       "Fare             1\n",
       "Cabin          327\n",
       "Embarked         0\n",
       "dtype: int64"
      ]
     },
     "execution_count": 9,
     "metadata": {},
     "output_type": "execute_result"
    }
   ],
   "source": [
    "test_data.isnull().sum()"
   ]
  },
  {
   "cell_type": "code",
   "execution_count": 10,
   "metadata": {
    "collapsed": false
   },
   "outputs": [
    {
     "data": {
      "text/plain": [
       "PassengerId      0\n",
       "Survived         0\n",
       "Pclass           0\n",
       "Name             0\n",
       "Sex              0\n",
       "Age            177\n",
       "SibSp            0\n",
       "Parch            0\n",
       "Ticket           0\n",
       "Fare             0\n",
       "Cabin          687\n",
       "Embarked         2\n",
       "dtype: int64"
      ]
     },
     "execution_count": 10,
     "metadata": {},
     "output_type": "execute_result"
    }
   ],
   "source": [
    "train_data.isnull().sum()"
   ]
  },
  {
   "cell_type": "code",
   "execution_count": 11,
   "metadata": {
    "collapsed": false
   },
   "outputs": [
    {
     "data": {
      "text/plain": [
       "0    549\n",
       "1    342\n",
       "Name: Survived, dtype: int64"
      ]
     },
     "execution_count": 11,
     "metadata": {},
     "output_type": "execute_result"
    }
   ],
   "source": [
    "train_data['Survived'].value_counts()"
   ]
  },
  {
   "cell_type": "code",
   "execution_count": 12,
   "metadata": {
    "collapsed": false
   },
   "outputs": [
    {
     "data": {
      "text/html": [
       "<div>\n",
       "<style scoped>\n",
       "    .dataframe tbody tr th:only-of-type {\n",
       "        vertical-align: middle;\n",
       "    }\n",
       "\n",
       "    .dataframe tbody tr th {\n",
       "        vertical-align: top;\n",
       "    }\n",
       "\n",
       "    .dataframe thead th {\n",
       "        text-align: right;\n",
       "    }\n",
       "</style>\n",
       "<table border=\"1\" class=\"dataframe\">\n",
       "  <thead>\n",
       "    <tr style=\"text-align: right;\">\n",
       "      <th></th>\n",
       "      <th>Pclass</th>\n",
       "      <th>Survived</th>\n",
       "    </tr>\n",
       "  </thead>\n",
       "  <tbody>\n",
       "    <tr>\n",
       "      <th>0</th>\n",
       "      <td>1</td>\n",
       "      <td>0.629630</td>\n",
       "    </tr>\n",
       "    <tr>\n",
       "      <th>1</th>\n",
       "      <td>2</td>\n",
       "      <td>0.472826</td>\n",
       "    </tr>\n",
       "    <tr>\n",
       "      <th>2</th>\n",
       "      <td>3</td>\n",
       "      <td>0.242363</td>\n",
       "    </tr>\n",
       "  </tbody>\n",
       "</table>\n",
       "</div>"
      ],
      "text/plain": [
       "   Pclass  Survived\n",
       "0       1  0.629630\n",
       "1       2  0.472826\n",
       "2       3  0.242363"
      ]
     },
     "execution_count": 12,
     "metadata": {},
     "output_type": "execute_result"
    }
   ],
   "source": [
    "train_data[['Pclass', 'Survived']].groupby(['Pclass'], as_index=False).mean().sort_values(by='Survived', ascending=False)"
   ]
  },
  {
   "cell_type": "code",
   "execution_count": 13,
   "metadata": {
    "collapsed": false
   },
   "outputs": [
    {
     "data": {
      "text/html": [
       "<div>\n",
       "<style scoped>\n",
       "    .dataframe tbody tr th:only-of-type {\n",
       "        vertical-align: middle;\n",
       "    }\n",
       "\n",
       "    .dataframe tbody tr th {\n",
       "        vertical-align: top;\n",
       "    }\n",
       "\n",
       "    .dataframe thead th {\n",
       "        text-align: right;\n",
       "    }\n",
       "</style>\n",
       "<table border=\"1\" class=\"dataframe\">\n",
       "  <thead>\n",
       "    <tr style=\"text-align: right;\">\n",
       "      <th></th>\n",
       "      <th>Sex</th>\n",
       "      <th>Survived</th>\n",
       "    </tr>\n",
       "  </thead>\n",
       "  <tbody>\n",
       "    <tr>\n",
       "      <th>0</th>\n",
       "      <td>female</td>\n",
       "      <td>0.742038</td>\n",
       "    </tr>\n",
       "    <tr>\n",
       "      <th>1</th>\n",
       "      <td>male</td>\n",
       "      <td>0.188908</td>\n",
       "    </tr>\n",
       "  </tbody>\n",
       "</table>\n",
       "</div>"
      ],
      "text/plain": [
       "      Sex  Survived\n",
       "0  female  0.742038\n",
       "1    male  0.188908"
      ]
     },
     "execution_count": 13,
     "metadata": {},
     "output_type": "execute_result"
    }
   ],
   "source": [
    "train_data[['Sex', 'Survived']].groupby(['Sex'], as_index=False).mean().sort_values(by='Survived', ascending=False)"
   ]
  },
  {
   "cell_type": "code",
   "execution_count": 14,
   "metadata": {
    "collapsed": false
   },
   "outputs": [
    {
     "data": {
      "image/png": "[encoded data removed]",
      "text/plain": [
       "<matplotlib.figure.Figure at 0x2abc719d860>"
      ]
     },
     "metadata": {},
     "output_type": "display_data"
    }
   ],
   "source": [
    "sns.countplot(x = 'Survived' , data=train_data)\n",
    "\n",
    "plt.show()"
   ]
  },
  {
   "cell_type": "code",
   "execution_count": 15,
   "metadata": {
    "collapsed": false
   },
   "outputs": [
    {
     "data": {
      "image/png": "[encoded data removed]",
      "text/plain": [
       "<matplotlib.figure.Figure at 0x2abc721fa20>"
      ]
     },
     "metadata": {},
     "output_type": "display_data"
    }
   ],
   "source": [
    "sns.factorplot('Pclass','Survived',hue='Sex',data=train_data)\n",
    "plt.show()"
   ]
  },
  {
   "cell_type": "code",
   "execution_count": 16,
   "metadata": {
    "collapsed": false
   },
   "outputs": [
    {
     "data": {
      "image/png": "[encoded data removed]",
      "text/plain": [
       "<matplotlib.figure.Figure at 0x2abc92b99b0>"
      ]
     },
     "metadata": {},
     "output_type": "display_data"
    }
   ],
   "source": [
    "sns.countplot(x = 'Age' , data=train_data)\n",
    "plt.show()"
   ]
  },
  {
   "cell_type": "code",
   "execution_count": 17,
   "metadata": {
    "collapsed": false
   },
   "outputs": [
    {
     "data": {
      "image/png": "[encoded data removed]",
      "text/plain": [
       "<matplotlib.figure.Figure at 0x2abc952e0b8>"
      ]
     },
     "metadata": {},
     "output_type": "display_data"
    }
   ],
   "source": [
    "sns.barplot(x= 'Survived', y='Age',  data = train_data)\n",
    "plt.show()"
   ]
  },
  {
   "cell_type": "code",
   "execution_count": 18,
   "metadata": {
    "collapsed": false
   },
   "outputs": [
    {
     "data": {
      "image/png": "[encoded data removed]",
      "text/plain": [
       "<matplotlib.figure.Figure at 0x2abc9399b00>"
      ]
     },
     "metadata": {},
     "output_type": "display_data"
    }
   ],
   "source": [
    "sns.countplot(train_data.Sex, hue = train_data.Survived , data=train_data)\n",
    "\n",
    "plt.show()"
   ]
  },
  {
   "cell_type": "code",
   "execution_count": 19,
   "metadata": {
    "collapsed": false
   },
   "outputs": [
    {
     "data": {
      "image/png": "[encoded data removed]",
      "text/plain": [
       "<matplotlib.figure.Figure at 0x2abc9425518>"
      ]
     },
     "metadata": {},
     "output_type": "display_data"
    }
   ],
   "source": [
    "sns.countplot(train_data.Pclass, hue = train_data.Survived , data = train_data )\n",
    "plt.show()"
   ]
  },
  {
   "cell_type": "code",
   "execution_count": 20,
   "metadata": {
    "collapsed": false
   },
   "outputs": [
    {
     "data": {
      "text/plain": [
       "Pclass  Sex   \n",
       "1       female    34.611765\n",
       "        male      41.281386\n",
       "2       female    28.722973\n",
       "        male      30.740707\n",
       "3       female    21.750000\n",
       "        male      26.507589\n",
       "dtype: float64"
      ]
     },
     "execution_count": 20,
     "metadata": {},
     "output_type": "execute_result"
    }
   ],
   "source": [
    "train_data.groupby(('Pclass','Sex')).apply(lambda x: x.Age.mean())"
   ]
  },
  {
   "cell_type": "code",
   "execution_count": 21,
   "metadata": {
    "collapsed": false
   },
   "outputs": [
    {
     "data": {
      "image/png": "[encoded data removed]",
      "text/plain": [
       "<matplotlib.figure.Figure at 0x2abc95f2400>"
      ]
     },
     "metadata": {},
     "output_type": "display_data"
    }
   ],
   "source": [
    "sns.barplot(x= 'Pclass',  y = 'Survived', hue = 'Sex', data = train_data)\n",
    "plt.show()"
   ]
  },
  {
   "cell_type": "code",
   "execution_count": 22,
   "metadata": {
    "collapsed": false
   },
   "outputs": [
    {
     "data": {
      "image/png": "[encoded data removed]",
      "text/plain": [
       "<matplotlib.figure.Figure at 0x2abca748e48>"
      ]
     },
     "metadata": {},
     "output_type": "display_data"
    }
   ],
   "source": [
    "sns.countplot(x = 'SibSp', hue = 'Survived',  data = train_data)\n",
    "plt.show()"
   ]
  },
  {
   "cell_type": "code",
   "execution_count": 23,
   "metadata": {
    "collapsed": false
   },
   "outputs": [
    {
     "data": {
      "text/html": [
       "<div>\n",
       "<style scoped>\n",
       "    .dataframe tbody tr th:only-of-type {\n",
       "        vertical-align: middle;\n",
       "    }\n",
       "\n",
       "    .dataframe tbody tr th {\n",
       "        vertical-align: top;\n",
       "    }\n",
       "\n",
       "    .dataframe thead th {\n",
       "        text-align: right;\n",
       "    }\n",
       "</style>\n",
       "<table border=\"1\" class=\"dataframe\">\n",
       "  <thead>\n",
       "    <tr style=\"text-align: right;\">\n",
       "      <th></th>\n",
       "      <th>SibSp</th>\n",
       "      <th>Survived</th>\n",
       "    </tr>\n",
       "  </thead>\n",
       "  <tbody>\n",
       "    <tr>\n",
       "      <th>1</th>\n",
       "      <td>1</td>\n",
       "      <td>0.535885</td>\n",
       "    </tr>\n",
       "    <tr>\n",
       "      <th>2</th>\n",
       "      <td>2</td>\n",
       "      <td>0.464286</td>\n",
       "    </tr>\n",
       "    <tr>\n",
       "      <th>0</th>\n",
       "      <td>0</td>\n",
       "      <td>0.345395</td>\n",
       "    </tr>\n",
       "    <tr>\n",
       "      <th>3</th>\n",
       "      <td>3</td>\n",
       "      <td>0.250000</td>\n",
       "    </tr>\n",
       "    <tr>\n",
       "      <th>4</th>\n",
       "      <td>4</td>\n",
       "      <td>0.166667</td>\n",
       "    </tr>\n",
       "    <tr>\n",
       "      <th>5</th>\n",
       "      <td>5</td>\n",
       "      <td>0.000000</td>\n",
       "    </tr>\n",
       "    <tr>\n",
       "      <th>6</th>\n",
       "      <td>8</td>\n",
       "      <td>0.000000</td>\n",
       "    </tr>\n",
       "  </tbody>\n",
       "</table>\n",
       "</div>"
      ],
      "text/plain": [
       "   SibSp  Survived\n",
       "1      1  0.535885\n",
       "2      2  0.464286\n",
       "0      0  0.345395\n",
       "3      3  0.250000\n",
       "4      4  0.166667\n",
       "5      5  0.000000\n",
       "6      8  0.000000"
      ]
     },
     "execution_count": 23,
     "metadata": {},
     "output_type": "execute_result"
    }
   ],
   "source": [
    "train_data[[\"SibSp\", \"Survived\"]].groupby(['SibSp'], as_index=False).mean().sort_values(by='Survived', ascending=False)"
   ]
  },
  {
   "cell_type": "code",
   "execution_count": 24,
   "metadata": {
    "collapsed": false
   },
   "outputs": [
    {
     "data": {
      "image/png": "[encoded data removed]",
      "text/plain": [
       "<matplotlib.figure.Figure at 0x2abc9671908>"
      ]
     },
     "metadata": {},
     "output_type": "display_data"
    }
   ],
   "source": [
    "sns.countplot(x = 'Parch', hue = 'Survived',  data = train_data)\n",
    "plt.show()"
   ]
  },
  {
   "cell_type": "code",
   "execution_count": 25,
   "metadata": {
    "collapsed": false
   },
   "outputs": [
    {
     "data": {
      "image/png": "[encoded data removed]",
      "text/plain": [
       "<matplotlib.figure.Figure at 0x2abc719dcf8>"
      ]
     },
     "metadata": {},
     "output_type": "display_data"
    }
   ],
   "source": [
    "sns.factorplot(x='Pclass', hue='Sex', col='Embarked', data=train_data, kind='count', size=6, aspect=.8)\n",
    "plt.show()"
   ]
  },
  {
   "cell_type": "code",
   "execution_count": 26,
   "metadata": {
    "collapsed": false
   },
   "outputs": [
    {
     "data": {
      "image/png": "[encoded data removed]",
      "text/plain": [
       "<matplotlib.figure.Figure at 0x2abc930f390>"
      ]
     },
     "metadata": {},
     "output_type": "display_data"
    }
   ],
   "source": [
    "sns.factorplot(x='Pclass', y='Fare', hue='Survived', col='Embarked', data=train_data, kind='bar', size=6, aspect=.8)\n",
    "plt.show()"
   ]
  },
  {
   "cell_type": "code",
   "execution_count": 27,
   "metadata": {
    "collapsed": true
   },
   "outputs": [],
   "source": [
    "full_data = pd.concat([train_data, test_data])"
   ]
  },
  {
   "cell_type": "code",
   "execution_count": 28,
   "metadata": {
    "collapsed": false
   },
   "outputs": [
    {
     "name": "stdout",
     "output_type": "stream",
     "text": [
      "(891, 12)\n",
      "(418, 11)\n",
      "(1309, 12)\n"
     ]
    }
   ],
   "source": [
    "print(train_data.shape)\n",
    "print(test_data.shape)\n",
    "print(full_data.shape)"
   ]
  },
  {
   "cell_type": "code",
   "execution_count": 29,
   "metadata": {
    "collapsed": false
   },
   "outputs": [
    {
     "data": {
      "text/plain": [
       "Age             263\n",
       "Cabin          1014\n",
       "Embarked          2\n",
       "Fare              1\n",
       "Name              0\n",
       "Parch             0\n",
       "PassengerId       0\n",
       "Pclass            0\n",
       "Sex               0\n",
       "SibSp             0\n",
       "Survived        418\n",
       "Ticket            0\n",
       "dtype: int64"
      ]
     },
     "execution_count": 29,
     "metadata": {},
     "output_type": "execute_result"
    }
   ],
   "source": [
    "full_data.isnull().sum()"
   ]
  },
  {
   "cell_type": "markdown",
   "metadata": {},
   "source": [
    "# Handling of Missing Data"
   ]
  },
  {
   "cell_type": "code",
   "execution_count": 30,
   "metadata": {
    "collapsed": false
   },
   "outputs": [],
   "source": [
    "Embarked_freq_value = full_data.Embarked.value_counts().index[0]\n",
    "full_data.Embarked = full_data.Embarked.fillna(Embarked_freq_value)"
   ]
  },
  {
   "cell_type": "code",
   "execution_count": 31,
   "metadata": {
    "collapsed": false
   },
   "outputs": [],
   "source": [
    "pclass_of_missing_fare = full_data[full_data.Fare.isnull()].Pclass.values[0]\n",
    "mean_fare = full_data[full_data.Pclass==pclass_of_missing_fare].Fare.mean()\n",
    "full_data.Fare = full_data.Fare.fillna(mean_fare)"
   ]
  },
  {
   "cell_type": "code",
   "execution_count": 32,
   "metadata": {
    "collapsed": true
   },
   "outputs": [],
   "source": [
    "# Imputing the age values is done according to the category of individual\n",
    "with_age  = full_data[['Name', 'Age', 'Parch']][~full_data['Age'].isna()]\n",
    "\n",
    "mean_MrsVal = round(with_age[with_age.Name.str.contains('Mrs.')].Age.mean())\n",
    "full_data.loc[(full_data['Age'].isna()) & (full_data.Name.str.contains('Mrs.')), 'Age'] = mean_MrsVal\n",
    "\n",
    "mean_DrVal = round(with_age[with_age.Name.str.contains(', Dr.')].Age.mean())\n",
    "full_data.loc[(full_data['Age'].isna()) & (full_data.Name.str.contains(', Dr.')), 'Age'] = mean_DrVal\n",
    "\n",
    "mean_MasterVal = round(with_age[with_age.Name.str.contains('Master.')].Age.mean())\n",
    "full_data.loc[(full_data['Age'].isna()) & (full_data.Name.str.contains('Master.')), 'Age'] = mean_MasterVal\n",
    "\n",
    "miss_with_age = with_age[with_age.Name.str.contains('Miss.')]\n",
    "mean_YMrsVal = round(miss_with_age[miss_with_age.Parch>0].Age.mean())\n",
    "full_data.loc[(full_data['Age'].isna() & full_data.Name.str.contains('Miss.') & (full_data.Parch>0)), 'Age'] = mean_YMrsVal\n",
    "\n",
    "mean_OMrsVal = round(miss_with_age[miss_with_age.Parch==0].Age.mean())\n",
    "full_data.loc[(full_data['Age'].isna() & full_data.Name.str.contains('Miss.') & (full_data.Parch==0)), 'Age'] = mean_OMrsVal\n",
    "\n",
    "mean_MrVal = round(with_age[with_age.Name.str.contains('Mr.')].Age.mean())\n",
    "full_data.loc[(full_data['Age'].isna()) & (full_data.Name.str.contains('Mr.')), 'Age'] = mean_MrVal\n",
    "\n",
    "mean_MsVal = round(with_age[with_age.Name.str.contains('Ms.')].Age.mean())\n",
    "full_data.loc[(full_data['Age'].isna()) & (full_data.Name.str.contains('Ms.')), 'Age'] = mean_MsVal"
   ]
  },
  {
   "cell_type": "code",
   "execution_count": 33,
   "metadata": {
    "collapsed": false
   },
   "outputs": [
    {
     "data": {
      "text/plain": [
       "Age               0\n",
       "Cabin          1014\n",
       "Embarked          0\n",
       "Fare              0\n",
       "Name              0\n",
       "Parch             0\n",
       "PassengerId       0\n",
       "Pclass            0\n",
       "Sex               0\n",
       "SibSp             0\n",
       "Survived        418\n",
       "Ticket            0\n",
       "dtype: int64"
      ]
     },
     "execution_count": 33,
     "metadata": {},
     "output_type": "execute_result"
    }
   ],
   "source": [
    "full_data.isnull().sum()"
   ]
  },
  {
   "cell_type": "markdown",
   "metadata": {},
   "source": [
    "# Feature creation"
   ]
  },
  {
   "cell_type": "code",
   "execution_count": 34,
   "metadata": {
    "collapsed": true
   },
   "outputs": [],
   "source": [
    "full_data['Family'] = full_data.Parch + full_data.SibSp + 1"
   ]
  },
  {
   "cell_type": "code",
   "execution_count": 35,
   "metadata": {
    "collapsed": true
   },
   "outputs": [],
   "source": [
    "labelEnco = LabelEncoder()\n",
    "full_data['Sex_Enco'] = labelEnco.fit_transform(full_data.Sex)"
   ]
  },
  {
   "cell_type": "code",
   "execution_count": 36,
   "metadata": {
    "collapsed": true
   },
   "outputs": [],
   "source": [
    "full_data['Embarked_Enco'] = labelEnco.fit_transform(full_data.Embarked)"
   ]
  },
  {
   "cell_type": "code",
   "execution_count": 37,
   "metadata": {
    "collapsed": false
   },
   "outputs": [
    {
     "data": {
      "text/plain": [
       "Mr              757\n",
       "Miss            260\n",
       "Mrs             197\n",
       "Master           61\n",
       "Rev               8\n",
       "Dr                8\n",
       "Col               4\n",
       "Mlle              2\n",
       "Major             2\n",
       "Ms                2\n",
       "Sir               1\n",
       "the Countess      1\n",
       "Dona              1\n",
       "Jonkheer          1\n",
       "Capt              1\n",
       "Don               1\n",
       "Mme               1\n",
       "Lady              1\n",
       "Name: Title, dtype: int64"
      ]
     },
     "execution_count": 37,
     "metadata": {},
     "output_type": "execute_result"
    }
   ],
   "source": [
    "full_data['Title'] = full_data.Name.apply(lambda x:x[x.index(', ')+2:x.index('. ')])\n",
    "full_data['Title'].value_counts()"
   ]
  },
  {
   "cell_type": "code",
   "execution_count": 38,
   "metadata": {
    "collapsed": true
   },
   "outputs": [],
   "source": [
    "full_data['TitleGroup'] = full_data.Title.map({'Mr':1, 'Miss':2, 'Mrs':3, 'Master':4, 'Dr':5, 'Rev':6, 'Col':7, 'Major':7, \n",
    "                                           'Ms':8, 'Mlle':8, 'Mme':8, 'Lady':8, 'Don':7, 'Sir':7, 'Jonkheer':8, 'Capt':7, \n",
    "                                           'Dona':8, 'the Countess':8})"
   ]
  },
  {
   "cell_type": "code",
   "execution_count": 39,
   "metadata": {
    "collapsed": false
   },
   "outputs": [
    {
     "data": {
      "text/plain": [
       "1     790\n",
       "2     235\n",
       "3     159\n",
       "4      43\n",
       "6      25\n",
       "5      22\n",
       "7      16\n",
       "11     11\n",
       "8       8\n",
       "Name: Family, dtype: int64"
      ]
     },
     "execution_count": 39,
     "metadata": {},
     "output_type": "execute_result"
    }
   ],
   "source": [
    "full_data['Family'].value_counts()"
   ]
  },
  {
   "cell_type": "code",
   "execution_count": 40,
   "metadata": {
    "collapsed": true
   },
   "outputs": [],
   "source": [
    "full_data['Single'] = full_data.Family.map({1:1,2:0,3:0,4:0,5:0,6:0,7:0,8:0,11:0})\n",
    "\n",
    "full_data['Couple'] = full_data.Family.map({1:0,2:1,3:0,4:0,5:0,6:0,7:0,8:0,11:0})\n",
    "\n",
    "full_data['Tripple'] = full_data.Family.map({1:0,2:0,3:1,4:0,5:0,6:0,7:0,8:0,11:0})\n",
    "\n",
    "full_data['FullFamily'] = full_data.Family.map({1:0,2:0,3:0,4:1,5:0,6:0,7:0,8:0,11:0})\n",
    "\n",
    "full_data['BigFamily'] = full_data.Family.map({1:0,2:0,3:0,4:0,5:1,6:1,7:1,8:1,11:1})"
   ]
  },
  {
   "cell_type": "code",
   "execution_count": 41,
   "metadata": {
    "collapsed": false
   },
   "outputs": [],
   "source": [
    "full_data = full_data.drop(['Cabin', 'Embarked', 'Name', 'Parch', 'SibSp', 'Sex', 'Ticket', 'Title'], axis=1)"
   ]
  },
  {
   "cell_type": "code",
   "execution_count": 42,
   "metadata": {
    "collapsed": false
   },
   "outputs": [],
   "source": [
    "train_data = full_data[:891]\n",
    "test_data = full_data[891:]"
   ]
  },
  {
   "cell_type": "code",
   "execution_count": 43,
   "metadata": {
    "collapsed": true
   },
   "outputs": [],
   "source": [
    "ids = test_data['PassengerId']"
   ]
  },
  {
   "cell_type": "code",
   "execution_count": 44,
   "metadata": {
    "collapsed": false
   },
   "outputs": [],
   "source": [
    "train_data = train_data.drop(['PassengerId'], axis=1)"
   ]
  },
  {
   "cell_type": "code",
   "execution_count": 45,
   "metadata": {
    "collapsed": true
   },
   "outputs": [],
   "source": [
    "test_data = test_data.drop(['Survived', 'PassengerId'], axis=1)"
   ]
  },
  {
   "cell_type": "code",
   "execution_count": 46,
   "metadata": {
    "collapsed": false
   },
   "outputs": [
    {
     "name": "stdout",
     "output_type": "stream",
     "text": [
      "(891, 13)\n",
      "(418, 12)\n"
     ]
    }
   ],
   "source": [
    "print(train_data.shape)\n",
    "print(test_data.shape)"
   ]
  },
  {
   "cell_type": "code",
   "execution_count": 47,
   "metadata": {
    "collapsed": false
   },
   "outputs": [
    {
     "data": {
      "text/plain": [
       "Age              0\n",
       "Fare             0\n",
       "Pclass           0\n",
       "Survived         0\n",
       "Family           0\n",
       "Sex_Enco         0\n",
       "Embarked_Enco    0\n",
       "TitleGroup       0\n",
       "Single           0\n",
       "Couple           0\n",
       "Tripple          0\n",
       "FullFamily       0\n",
       "BigFamily        0\n",
       "dtype: int64"
      ]
     },
     "execution_count": 47,
     "metadata": {},
     "output_type": "execute_result"
    }
   ],
   "source": [
    "train_data.isnull().sum()"
   ]
  },
  {
   "cell_type": "code",
   "execution_count": 48,
   "metadata": {
    "collapsed": false
   },
   "outputs": [
    {
     "data": {
      "text/plain": [
       "Age              0\n",
       "Fare             0\n",
       "Pclass           0\n",
       "Family           0\n",
       "Sex_Enco         0\n",
       "Embarked_Enco    0\n",
       "TitleGroup       0\n",
       "Single           0\n",
       "Couple           0\n",
       "Tripple          0\n",
       "FullFamily       0\n",
       "BigFamily        0\n",
       "dtype: int64"
      ]
     },
     "execution_count": 48,
     "metadata": {},
     "output_type": "execute_result"
    }
   ],
   "source": [
    "test_data.isnull().sum()"
   ]
  },
  {
   "cell_type": "code",
   "execution_count": 49,
   "metadata": {
    "collapsed": false
   },
   "outputs": [
    {
     "data": {
      "image/png": "[encoded data removed]",
      "text/plain": [
       "<matplotlib.figure.Figure at 0x2abc950acc0>"
      ]
     },
     "metadata": {},
     "output_type": "display_data"
    }
   ],
   "source": [
    "grid = sns.FacetGrid(train_data, col='Survived', row='Pclass', size=2.2, aspect=1.6)\n",
    "grid.map(plt.hist, 'Age', alpha=.5, bins=20)\n",
    "grid.add_legend()\n",
    "plt.show()"
   ]
  },
  {
   "cell_type": "code",
   "execution_count": 50,
   "metadata": {
    "collapsed": false
   },
   "outputs": [
    {
     "data": {
      "image/png": "[encoded data removed]",
      "text/plain": [
       "<matplotlib.figure.Figure at 0x2abc94d2c50>"
      ]
     },
     "metadata": {},
     "output_type": "display_data"
    }
   ],
   "source": [
    "g = sns.FacetGrid(train_data, col='Survived')\n",
    "g.map(sns.distplot, 'Age', bins=30)\n",
    "plt.show()"
   ]
  },
  {
   "cell_type": "code",
   "execution_count": 51,
   "metadata": {
    "collapsed": false
   },
   "outputs": [
    {
     "data": {
      "image/png": "[encoded data removed]",
      "text/plain": [
       "<matplotlib.figure.Figure at 0x2abc9446710>"
      ]
     },
     "metadata": {},
     "output_type": "display_data"
    }
   ],
   "source": [
    "sns.FacetGrid(train_data, hue=\"Survived\", size=4).map(sns.kdeplot, \"Age\", shade=True).add_legend()\n",
    "plt.show()"
   ]
  },
  {
   "cell_type": "code",
   "execution_count": 52,
   "metadata": {
    "collapsed": false
   },
   "outputs": [
    {
     "data": {
      "text/html": [
       "<div>\n",
       "<style scoped>\n",
       "    .dataframe tbody tr th:only-of-type {\n",
       "        vertical-align: middle;\n",
       "    }\n",
       "\n",
       "    .dataframe tbody tr th {\n",
       "        vertical-align: top;\n",
       "    }\n",
       "\n",
       "    .dataframe thead th {\n",
       "        text-align: right;\n",
       "    }\n",
       "</style>\n",
       "<table border=\"1\" class=\"dataframe\">\n",
       "  <thead>\n",
       "    <tr style=\"text-align: right;\">\n",
       "      <th></th>\n",
       "      <th>AgeBand</th>\n",
       "      <th>Survived</th>\n",
       "    </tr>\n",
       "  </thead>\n",
       "  <tbody>\n",
       "    <tr>\n",
       "      <th>0</th>\n",
       "      <td>[0, 7)</td>\n",
       "      <td>0.686275</td>\n",
       "    </tr>\n",
       "    <tr>\n",
       "      <th>5</th>\n",
       "      <td>[50, 59)</td>\n",
       "      <td>0.434783</td>\n",
       "    </tr>\n",
       "    <tr>\n",
       "      <th>4</th>\n",
       "      <td>[37, 50)</td>\n",
       "      <td>0.427536</td>\n",
       "    </tr>\n",
       "    <tr>\n",
       "      <th>3</th>\n",
       "      <td>[23, 37)</td>\n",
       "      <td>0.356322</td>\n",
       "    </tr>\n",
       "    <tr>\n",
       "      <th>2</th>\n",
       "      <td>[15, 23)</td>\n",
       "      <td>0.346405</td>\n",
       "    </tr>\n",
       "    <tr>\n",
       "      <th>1</th>\n",
       "      <td>[7, 15)</td>\n",
       "      <td>0.325000</td>\n",
       "    </tr>\n",
       "    <tr>\n",
       "      <th>6</th>\n",
       "      <td>[59, 80)</td>\n",
       "      <td>0.222222</td>\n",
       "    </tr>\n",
       "  </tbody>\n",
       "</table>\n",
       "</div>"
      ],
      "text/plain": [
       "    AgeBand  Survived\n",
       "0    [0, 7)  0.686275\n",
       "5  [50, 59)  0.434783\n",
       "4  [37, 50)  0.427536\n",
       "3  [23, 37)  0.356322\n",
       "2  [15, 23)  0.346405\n",
       "1   [7, 15)  0.325000\n",
       "6  [59, 80)  0.222222"
      ]
     },
     "execution_count": 52,
     "metadata": {},
     "output_type": "execute_result"
    }
   ],
   "source": [
    "train_data['AgeBand'] = pd.cut(train_data['Age'], [0,7,15,23,37,50,59,80], right=False)\n",
    "train_data[['AgeBand', 'Survived']].groupby(['AgeBand'], as_index=False).mean().sort_values(by='Survived', ascending=False)"
   ]
  },
  {
   "cell_type": "code",
   "execution_count": 53,
   "metadata": {
    "collapsed": false
   },
   "outputs": [],
   "source": [
    "def createAgeBandIndex(t_data):\n",
    "    t_data.loc[(t_data.Age>=0) & (t_data.Age<7), 'AgeBandIndex'] = 0\n",
    "    t_data.loc[(t_data.Age>=7) & (t_data.Age<15), 'AgeBandIndex'] = 1\n",
    "    t_data.loc[(t_data.Age>=15) & (t_data.Age<23), 'AgeBandIndex'] = 2\n",
    "    t_data.loc[(t_data.Age>=23) & (t_data.Age<37), 'AgeBandIndex'] = 3\n",
    "    t_data.loc[(t_data.Age>=37) & (t_data.Age<50), 'AgeBandIndex'] = 4\n",
    "    t_data.loc[(t_data.Age>=50) & (t_data.Age<59), 'AgeBandIndex'] = 5\n",
    "    t_data.loc[(t_data.Age>=59) & (t_data.Age<=80), 'AgeBandIndex'] = 6\n",
    "    return t_data"
   ]
  },
  {
   "cell_type": "code",
   "execution_count": 54,
   "metadata": {
    "collapsed": true
   },
   "outputs": [],
   "source": [
    "train_data = createAgeBandIndex(train_data)\n",
    "test_data = createAgeBandIndex(test_data)"
   ]
  },
  {
   "cell_type": "code",
   "execution_count": 55,
   "metadata": {
    "collapsed": false
   },
   "outputs": [
    {
     "data": {
      "image/png": "[encoded data removed]",
      "text/plain": [
       "<matplotlib.figure.Figure at 0x2abc9448da0>"
      ]
     },
     "metadata": {},
     "output_type": "display_data"
    }
   ],
   "source": [
    "g = sns.FacetGrid(train_data, col='Survived')\n",
    "g.map(sns.distplot, 'Fare', bins=30)\n",
    "plt.show()"
   ]
  },
  {
   "cell_type": "code",
   "execution_count": 56,
   "metadata": {
    "collapsed": false
   },
   "outputs": [
    {
     "data": {
      "image/png": "[encoded data removed]",
      "text/plain": [
       "<matplotlib.figure.Figure at 0x2abc958c5c0>"
      ]
     },
     "metadata": {},
     "output_type": "display_data"
    }
   ],
   "source": [
    "sns.FacetGrid(train_data, hue=\"Survived\", size=4).map(sns.kdeplot, \"Fare\").add_legend()\n",
    "plt.show()"
   ]
  },
  {
   "cell_type": "code",
   "execution_count": 57,
   "metadata": {
    "collapsed": false
   },
   "outputs": [
    {
     "data": {
      "text/html": [
       "<div>\n",
       "<style scoped>\n",
       "    .dataframe tbody tr th:only-of-type {\n",
       "        vertical-align: middle;\n",
       "    }\n",
       "\n",
       "    .dataframe tbody tr th {\n",
       "        vertical-align: top;\n",
       "    }\n",
       "\n",
       "    .dataframe thead th {\n",
       "        text-align: right;\n",
       "    }\n",
       "</style>\n",
       "<table border=\"1\" class=\"dataframe\">\n",
       "  <thead>\n",
       "    <tr style=\"text-align: right;\">\n",
       "      <th></th>\n",
       "      <th>FareBand</th>\n",
       "      <th>Survived</th>\n",
       "    </tr>\n",
       "  </thead>\n",
       "  <tbody>\n",
       "    <tr>\n",
       "      <th>10</th>\n",
       "      <td>[490, 513)</td>\n",
       "      <td>1.000000</td>\n",
       "    </tr>\n",
       "    <tr>\n",
       "      <th>7</th>\n",
       "      <td>[125, 150)</td>\n",
       "      <td>0.888889</td>\n",
       "    </tr>\n",
       "    <tr>\n",
       "      <th>5</th>\n",
       "      <td>[80, 100)</td>\n",
       "      <td>0.869565</td>\n",
       "    </tr>\n",
       "    <tr>\n",
       "      <th>6</th>\n",
       "      <td>[100, 125)</td>\n",
       "      <td>0.733333</td>\n",
       "    </tr>\n",
       "    <tr>\n",
       "      <th>8</th>\n",
       "      <td>[150, 280)</td>\n",
       "      <td>0.653846</td>\n",
       "    </tr>\n",
       "    <tr>\n",
       "      <th>4</th>\n",
       "      <td>[50, 80)</td>\n",
       "      <td>0.588235</td>\n",
       "    </tr>\n",
       "    <tr>\n",
       "      <th>2</th>\n",
       "      <td>[10, 40)</td>\n",
       "      <td>0.427441</td>\n",
       "    </tr>\n",
       "    <tr>\n",
       "      <th>3</th>\n",
       "      <td>[40, 50)</td>\n",
       "      <td>0.266667</td>\n",
       "    </tr>\n",
       "    <tr>\n",
       "      <th>1</th>\n",
       "      <td>[5, 10)</td>\n",
       "      <td>0.206250</td>\n",
       "    </tr>\n",
       "    <tr>\n",
       "      <th>0</th>\n",
       "      <td>[0, 5)</td>\n",
       "      <td>0.062500</td>\n",
       "    </tr>\n",
       "    <tr>\n",
       "      <th>9</th>\n",
       "      <td>[280, 490)</td>\n",
       "      <td>NaN</td>\n",
       "    </tr>\n",
       "  </tbody>\n",
       "</table>\n",
       "</div>"
      ],
      "text/plain": [
       "      FareBand  Survived\n",
       "10  [490, 513)  1.000000\n",
       "7   [125, 150)  0.888889\n",
       "5    [80, 100)  0.869565\n",
       "6   [100, 125)  0.733333\n",
       "8   [150, 280)  0.653846\n",
       "4     [50, 80)  0.588235\n",
       "2     [10, 40)  0.427441\n",
       "3     [40, 50)  0.266667\n",
       "1      [5, 10)  0.206250\n",
       "0       [0, 5)  0.062500\n",
       "9   [280, 490)       NaN"
      ]
     },
     "execution_count": 57,
     "metadata": {},
     "output_type": "execute_result"
    }
   ],
   "source": [
    "train_data['FareBand'] = pd.cut(train_data['Fare'], [0,5,10,40,50,80,100,125,150,280,490,513], right=False)\n",
    "train_data[['FareBand', 'Survived']].groupby(['FareBand'], as_index=False).mean().sort_values(by='Survived', ascending=False)"
   ]
  },
  {
   "cell_type": "code",
   "execution_count": 58,
   "metadata": {
    "collapsed": true
   },
   "outputs": [],
   "source": [
    "def createFareBandIndex(f_data):\n",
    "    f_data.loc[(f_data.Fare>=0) & (f_data.Fare<5), 'FareBandIndex'] = 0\n",
    "    f_data.loc[(f_data.Fare>=5) & (f_data.Fare<10), 'FareBandIndex'] = 1\n",
    "    f_data.loc[(f_data.Fare>=10) & (f_data.Fare<40), 'FareBandIndex'] = 2\n",
    "    f_data.loc[(f_data.Fare>=40) & (f_data.Fare<50), 'FareBandIndex'] = 3\n",
    "    f_data.loc[(f_data.Fare>=50) & (f_data.Fare<80), 'FareBandIndex'] = 4\n",
    "    f_data.loc[(f_data.Fare>=80) & (f_data.Fare<100), 'FareBandIndex'] = 5\n",
    "    f_data.loc[(f_data.Fare>=100) & (f_data.Fare<125), 'FareBandIndex'] = 6\n",
    "    f_data.loc[(f_data.Fare>=125) & (f_data.Fare<150), 'FareBandIndex'] = 7\n",
    "    f_data.loc[(f_data.Fare>=150) & (f_data.Fare<280), 'FareBandIndex'] = 8\n",
    "    f_data.loc[(f_data.Fare>=280) & (f_data.Fare<490), 'FareBandIndex'] = 9\n",
    "    f_data.loc[(f_data.Fare>=490) & (f_data.Fare<513), 'FareBandIndex'] = 10\n",
    "    return f_data"
   ]
  },
  {
   "cell_type": "code",
   "execution_count": 59,
   "metadata": {
    "collapsed": false
   },
   "outputs": [],
   "source": [
    "train_data = createFareBandIndex(train_data)\n",
    "test_data = createFareBandIndex(test_data)"
   ]
  },
  {
   "cell_type": "code",
   "execution_count": 60,
   "metadata": {
    "collapsed": false
   },
   "outputs": [],
   "source": [
    "train_data = train_data.drop(['Age', 'Fare', 'AgeBand', 'FareBand'], axis=1)"
   ]
  },
  {
   "cell_type": "code",
   "execution_count": 61,
   "metadata": {
    "collapsed": true
   },
   "outputs": [],
   "source": [
    "test_data = test_data.drop(['Age', 'Fare'], axis=1)"
   ]
  },
  {
   "cell_type": "code",
   "execution_count": 62,
   "metadata": {
    "collapsed": false
   },
   "outputs": [
    {
     "data": {
      "text/html": [
       "<div>\n",
       "<style scoped>\n",
       "    .dataframe tbody tr th:only-of-type {\n",
       "        vertical-align: middle;\n",
       "    }\n",
       "\n",
       "    .dataframe tbody tr th {\n",
       "        vertical-align: top;\n",
       "    }\n",
       "\n",
       "    .dataframe thead th {\n",
       "        text-align: right;\n",
       "    }\n",
       "</style>\n",
       "<table border=\"1\" class=\"dataframe\">\n",
       "  <thead>\n",
       "    <tr style=\"text-align: right;\">\n",
       "      <th></th>\n",
       "      <th>Pclass</th>\n",
       "      <th>Survived</th>\n",
       "      <th>Family</th>\n",
       "      <th>Sex_Enco</th>\n",
       "      <th>Embarked_Enco</th>\n",
       "      <th>TitleGroup</th>\n",
       "      <th>Single</th>\n",
       "      <th>Couple</th>\n",
       "      <th>Tripple</th>\n",
       "      <th>FullFamily</th>\n",
       "      <th>BigFamily</th>\n",
       "      <th>AgeBandIndex</th>\n",
       "      <th>FareBandIndex</th>\n",
       "    </tr>\n",
       "  </thead>\n",
       "  <tbody>\n",
       "    <tr>\n",
       "      <th>0</th>\n",
       "      <td>3</td>\n",
       "      <td>0.0</td>\n",
       "      <td>2</td>\n",
       "      <td>1</td>\n",
       "      <td>2</td>\n",
       "      <td>1</td>\n",
       "      <td>0</td>\n",
       "      <td>1</td>\n",
       "      <td>0</td>\n",
       "      <td>0</td>\n",
       "      <td>0</td>\n",
       "      <td>2.0</td>\n",
       "      <td>1.0</td>\n",
       "    </tr>\n",
       "    <tr>\n",
       "      <th>1</th>\n",
       "      <td>1</td>\n",
       "      <td>1.0</td>\n",
       "      <td>2</td>\n",
       "      <td>0</td>\n",
       "      <td>0</td>\n",
       "      <td>3</td>\n",
       "      <td>0</td>\n",
       "      <td>1</td>\n",
       "      <td>0</td>\n",
       "      <td>0</td>\n",
       "      <td>0</td>\n",
       "      <td>4.0</td>\n",
       "      <td>4.0</td>\n",
       "    </tr>\n",
       "    <tr>\n",
       "      <th>2</th>\n",
       "      <td>3</td>\n",
       "      <td>1.0</td>\n",
       "      <td>1</td>\n",
       "      <td>0</td>\n",
       "      <td>2</td>\n",
       "      <td>2</td>\n",
       "      <td>1</td>\n",
       "      <td>0</td>\n",
       "      <td>0</td>\n",
       "      <td>0</td>\n",
       "      <td>0</td>\n",
       "      <td>3.0</td>\n",
       "      <td>1.0</td>\n",
       "    </tr>\n",
       "    <tr>\n",
       "      <th>3</th>\n",
       "      <td>1</td>\n",
       "      <td>1.0</td>\n",
       "      <td>2</td>\n",
       "      <td>0</td>\n",
       "      <td>2</td>\n",
       "      <td>3</td>\n",
       "      <td>0</td>\n",
       "      <td>1</td>\n",
       "      <td>0</td>\n",
       "      <td>0</td>\n",
       "      <td>0</td>\n",
       "      <td>3.0</td>\n",
       "      <td>4.0</td>\n",
       "    </tr>\n",
       "    <tr>\n",
       "      <th>4</th>\n",
       "      <td>3</td>\n",
       "      <td>0.0</td>\n",
       "      <td>1</td>\n",
       "      <td>1</td>\n",
       "      <td>2</td>\n",
       "      <td>1</td>\n",
       "      <td>1</td>\n",
       "      <td>0</td>\n",
       "      <td>0</td>\n",
       "      <td>0</td>\n",
       "      <td>0</td>\n",
       "      <td>3.0</td>\n",
       "      <td>1.0</td>\n",
       "    </tr>\n",
       "  </tbody>\n",
       "</table>\n",
       "</div>"
      ],
      "text/plain": [
       "   Pclass  Survived  Family  Sex_Enco  Embarked_Enco  TitleGroup  Single  \\\n",
       "0       3       0.0       2         1              2           1       0   \n",
       "1       1       1.0       2         0              0           3       0   \n",
       "2       3       1.0       1         0              2           2       1   \n",
       "3       1       1.0       2         0              2           3       0   \n",
       "4       3       0.0       1         1              2           1       1   \n",
       "\n",
       "   Couple  Tripple  FullFamily  BigFamily  AgeBandIndex  FareBandIndex  \n",
       "0       1        0           0          0           2.0            1.0  \n",
       "1       1        0           0          0           4.0            4.0  \n",
       "2       0        0           0          0           3.0            1.0  \n",
       "3       1        0           0          0           3.0            4.0  \n",
       "4       0        0           0          0           3.0            1.0  "
      ]
     },
     "execution_count": 62,
     "metadata": {},
     "output_type": "execute_result"
    }
   ],
   "source": [
    "train_data.head()"
   ]
  },
  {
   "cell_type": "code",
   "execution_count": 63,
   "metadata": {
    "collapsed": false
   },
   "outputs": [
    {
     "data": {
      "text/html": [
       "<div>\n",
       "<style scoped>\n",
       "    .dataframe tbody tr th:only-of-type {\n",
       "        vertical-align: middle;\n",
       "    }\n",
       "\n",
       "    .dataframe tbody tr th {\n",
       "        vertical-align: top;\n",
       "    }\n",
       "\n",
       "    .dataframe thead th {\n",
       "        text-align: right;\n",
       "    }\n",
       "</style>\n",
       "<table border=\"1\" class=\"dataframe\">\n",
       "  <thead>\n",
       "    <tr style=\"text-align: right;\">\n",
       "      <th></th>\n",
       "      <th>Pclass</th>\n",
       "      <th>Family</th>\n",
       "      <th>Sex_Enco</th>\n",
       "      <th>Embarked_Enco</th>\n",
       "      <th>TitleGroup</th>\n",
       "      <th>Single</th>\n",
       "      <th>Couple</th>\n",
       "      <th>Tripple</th>\n",
       "      <th>FullFamily</th>\n",
       "      <th>BigFamily</th>\n",
       "      <th>AgeBandIndex</th>\n",
       "      <th>FareBandIndex</th>\n",
       "    </tr>\n",
       "  </thead>\n",
       "  <tbody>\n",
       "    <tr>\n",
       "      <th>0</th>\n",
       "      <td>3</td>\n",
       "      <td>1</td>\n",
       "      <td>1</td>\n",
       "      <td>1</td>\n",
       "      <td>1</td>\n",
       "      <td>1</td>\n",
       "      <td>0</td>\n",
       "      <td>0</td>\n",
       "      <td>0</td>\n",
       "      <td>0</td>\n",
       "      <td>3.0</td>\n",
       "      <td>1.0</td>\n",
       "    </tr>\n",
       "    <tr>\n",
       "      <th>1</th>\n",
       "      <td>3</td>\n",
       "      <td>2</td>\n",
       "      <td>0</td>\n",
       "      <td>2</td>\n",
       "      <td>3</td>\n",
       "      <td>0</td>\n",
       "      <td>1</td>\n",
       "      <td>0</td>\n",
       "      <td>0</td>\n",
       "      <td>0</td>\n",
       "      <td>4.0</td>\n",
       "      <td>1.0</td>\n",
       "    </tr>\n",
       "    <tr>\n",
       "      <th>2</th>\n",
       "      <td>2</td>\n",
       "      <td>1</td>\n",
       "      <td>1</td>\n",
       "      <td>1</td>\n",
       "      <td>1</td>\n",
       "      <td>1</td>\n",
       "      <td>0</td>\n",
       "      <td>0</td>\n",
       "      <td>0</td>\n",
       "      <td>0</td>\n",
       "      <td>6.0</td>\n",
       "      <td>1.0</td>\n",
       "    </tr>\n",
       "    <tr>\n",
       "      <th>3</th>\n",
       "      <td>3</td>\n",
       "      <td>1</td>\n",
       "      <td>1</td>\n",
       "      <td>2</td>\n",
       "      <td>1</td>\n",
       "      <td>1</td>\n",
       "      <td>0</td>\n",
       "      <td>0</td>\n",
       "      <td>0</td>\n",
       "      <td>0</td>\n",
       "      <td>3.0</td>\n",
       "      <td>1.0</td>\n",
       "    </tr>\n",
       "    <tr>\n",
       "      <th>4</th>\n",
       "      <td>3</td>\n",
       "      <td>3</td>\n",
       "      <td>0</td>\n",
       "      <td>2</td>\n",
       "      <td>3</td>\n",
       "      <td>0</td>\n",
       "      <td>0</td>\n",
       "      <td>1</td>\n",
       "      <td>0</td>\n",
       "      <td>0</td>\n",
       "      <td>2.0</td>\n",
       "      <td>2.0</td>\n",
       "    </tr>\n",
       "  </tbody>\n",
       "</table>\n",
       "</div>"
      ],
      "text/plain": [
       "   Pclass  Family  Sex_Enco  Embarked_Enco  TitleGroup  Single  Couple  \\\n",
       "0       3       1         1              1           1       1       0   \n",
       "1       3       2         0              2           3       0       1   \n",
       "2       2       1         1              1           1       1       0   \n",
       "3       3       1         1              2           1       1       0   \n",
       "4       3       3         0              2           3       0       0   \n",
       "\n",
       "   Tripple  FullFamily  BigFamily  AgeBandIndex  FareBandIndex  \n",
       "0        0           0          0           3.0            1.0  \n",
       "1        0           0          0           4.0            1.0  \n",
       "2        0           0          0           6.0            1.0  \n",
       "3        0           0          0           3.0            1.0  \n",
       "4        1           0          0           2.0            2.0  "
      ]
     },
     "execution_count": 63,
     "metadata": {},
     "output_type": "execute_result"
    }
   ],
   "source": [
    "test_data.head()"
   ]
  },
  {
   "cell_type": "code",
   "execution_count": 64,
   "metadata": {
    "collapsed": false
   },
   "outputs": [
    {
     "data": {
      "image/png": "[encoded data removed]",
      "text/plain": [
       "<matplotlib.figure.Figure at 0x2abcaa06860>"
      ]
     },
     "metadata": {},
     "output_type": "display_data"
    }
   ],
   "source": [
    "plt.figure(figsize=(7,4)) \n",
    "sns.heatmap(train_data.corr(),annot=True,cmap='cubehelix_r')\n",
    "plt.show()"
   ]
  },
  {
   "cell_type": "code",
   "execution_count": 70,
   "metadata": {
    "collapsed": false
   },
   "outputs": [
    {
     "data": {
      "image/png": "[encoded data removed]",
      "text/plain": [
       "<matplotlib.figure.Figure at 0x2abcaeaa128>"
      ]
     },
     "metadata": {},
     "output_type": "display_data"
    }
   ],
   "source": [
    "sns.heatmap(train_data.corr(),annot=False,cmap='RdYlGn',linewidths=0.2) \n",
    "fig=plt.gcf()\n",
    "fig.set_size_inches(10,8)\n",
    "plt.show()"
   ]
  },
  {
   "cell_type": "code",
   "execution_count": 975,
   "metadata": {
    "collapsed": false
   },
   "outputs": [
    {
     "name": "stdout",
     "output_type": "stream",
     "text": [
      "(891, 13)\n",
      "(418, 12)\n"
     ]
    }
   ],
   "source": [
    "print(train_data.shape)\n",
    "print(test_data.shape)"
   ]
  },
  {
   "cell_type": "markdown",
   "metadata": {},
   "source": [
    "# Model Creation"
   ]
  },
  {
   "cell_type": "code",
   "execution_count": 976,
   "metadata": {
    "collapsed": false
   },
   "outputs": [],
   "source": [
    "train_columns = [col for col in train_data.columns if col!='Survived']"
   ]
  },
  {
   "cell_type": "code",
   "execution_count": 977,
   "metadata": {
    "collapsed": true
   },
   "outputs": [],
   "source": [
    "def plotLearningCurve(model, X, y, title=None, cv=None, ylim=None):\n",
    "    train_sizes, train_scores, valid_scores = model_selection.learning_curve(model, X, y, cv=shuffle )\n",
    "\n",
    "    tScores_mean = np.mean(train_scores, axis=1)\n",
    "    tScores_std = np.std(train_scores, axis=1)\n",
    "    vScores_mean = np.mean(valid_scores, axis=1)\n",
    "    vScores_std = np.std(valid_scores, axis=1)\n",
    "\n",
    "    plt.figure()\n",
    "    plt.fill_between(train_sizes, tScores_mean-tScores_std, tScores_mean+tScores_std, alpha=0.2, color='r')\n",
    "    plt.fill_between(train_sizes, vScores_mean-vScores_std, vScores_mean+vScores_std, alpha=0.2, color='g')\n",
    "    plt.plot(train_sizes, tScores_mean, 'o-',color='r', label='Training Score')\n",
    "    plt.plot(train_sizes, vScores_mean, 'o-',color='g', label='Validation Score')\n",
    "    \n",
    "    if title is not None:\n",
    "        plt.title(title)\n",
    "    plt.xlabel('Training examples')\n",
    "    plt.ylabel('Score')\n",
    "    plt.legend(loc='best')\n",
    "    if ylim is not None:\n",
    "        plt.ylim(ylim)\n",
    "    plt.show()"
   ]
  },
  {
   "cell_type": "code",
   "execution_count": 978,
   "metadata": {
    "collapsed": true
   },
   "outputs": [],
   "source": [
    "gb = ensemble.GradientBoostingClassifier()\n",
    "shuffle = model_selection.StratifiedShuffleSplit(random_state=42)"
   ]
  },
  {
   "cell_type": "code",
   "execution_count": 979,
   "metadata": {
    "collapsed": true
   },
   "outputs": [],
   "source": [
    "cvScore = model_selection.cross_val_score(gb, train_data[train_columns], train_data.Survived, cv=shuffle, n_jobs=-1) "
   ]
  },
  {
   "cell_type": "code",
   "execution_count": 980,
   "metadata": {
    "collapsed": false
   },
   "outputs": [
    {
     "name": "stdout",
     "output_type": "stream",
     "text": [
      "cv score: Mean 0.798889 | Std 0.033500 | Min 0.744444 | Max 0.844444 \n",
      "list is [0.78888889 0.75555556 0.74444444 0.84444444 0.81111111 0.78888889\n",
      " 0.82222222 0.83333333 0.76666667 0.83333333]\n"
     ]
    }
   ],
   "source": [
    "print('cv score: Mean %f | Std %f | Min %f | Max %f '%(cvScore.mean(), cvScore.std(), cvScore.min(), cvScore.max()))\n",
    "print('list is %s' %cvScore.ravel())"
   ]
  },
  {
   "cell_type": "code",
   "execution_count": 981,
   "metadata": {
    "collapsed": false
   },
   "outputs": [
    {
     "data": {
      "image/png": "[encoded data removed]",
      "text/plain": [
       "<matplotlib.figure.Figure at 0x1c6b0de4ba8>"
      ]
     },
     "metadata": {},
     "output_type": "display_data"
    }
   ],
   "source": [
    "plotLearningCurve(gb, train_data[train_columns], train_data.Survived, cv=shuffle, \n",
    "                  ylim=(0.65,0.95), title='Learning Curve: Titanic')"
   ]
  },
  {
   "cell_type": "code",
   "execution_count": 997,
   "metadata": {
    "collapsed": true
   },
   "outputs": [],
   "source": [
    "param_grid = {'learning_rate':[0.008,0.009,0.01,0.02],\n",
    "              'min_samples_split':[7,6,5],\n",
    "              'max_depth': [5,6,7],\n",
    "              'n_estimators':[115,120,125]}"
   ]
  },
  {
   "cell_type": "code",
   "execution_count": 998,
   "metadata": {
    "collapsed": false
   },
   "outputs": [
    {
     "name": "stdout",
     "output_type": "stream",
     "text": [
      "execution time: 168.138159\n",
      "best score 0.824444\n",
      "{'learning_rate': 0.01, 'max_depth': 5, 'min_samples_split': 6, 'n_estimators': 120}\n",
      "mean: 0.81778, std: 0.03624, params: {'learning_rate': 0.008, 'max_depth': 5, 'min_samples_split': 7, 'n_estimators': 115}\n",
      "mean: 0.81778, std: 0.03624, params: {'learning_rate': 0.008, 'max_depth': 5, 'min_samples_split': 7, 'n_estimators': 120}\n",
      "mean: 0.82000, std: 0.03213, params: {'learning_rate': 0.008, 'max_depth': 5, 'min_samples_split': 7, 'n_estimators': 125}\n",
      "mean: 0.82000, std: 0.03843, params: {'learning_rate': 0.008, 'max_depth': 5, 'min_samples_split': 6, 'n_estimators': 115}\n",
      "mean: 0.82000, std: 0.03843, params: {'learning_rate': 0.008, 'max_depth': 5, 'min_samples_split': 6, 'n_estimators': 120}\n",
      "mean: 0.82222, std: 0.03443, params: {'learning_rate': 0.008, 'max_depth': 5, 'min_samples_split': 6, 'n_estimators': 125}\n",
      "mean: 0.82000, std: 0.03843, params: {'learning_rate': 0.008, 'max_depth': 5, 'min_samples_split': 5, 'n_estimators': 115}\n",
      "mean: 0.82000, std: 0.03843, params: {'learning_rate': 0.008, 'max_depth': 5, 'min_samples_split': 5, 'n_estimators': 120}\n",
      "mean: 0.82222, std: 0.03443, params: {'learning_rate': 0.008, 'max_depth': 5, 'min_samples_split': 5, 'n_estimators': 125}\n",
      "mean: 0.80333, std: 0.03260, params: {'learning_rate': 0.008, 'max_depth': 6, 'min_samples_split': 7, 'n_estimators': 115}\n",
      "mean: 0.80333, std: 0.03260, params: {'learning_rate': 0.008, 'max_depth': 6, 'min_samples_split': 7, 'n_estimators': 120}\n",
      "mean: 0.80556, std: 0.03592, params: {'learning_rate': 0.008, 'max_depth': 6, 'min_samples_split': 7, 'n_estimators': 125}\n",
      "mean: 0.80556, std: 0.03592, params: {'learning_rate': 0.008, 'max_depth': 6, 'min_samples_split': 6, 'n_estimators': 115}\n",
      "mean: 0.80556, std: 0.03592, params: {'learning_rate': 0.008, 'max_depth': 6, 'min_samples_split': 6, 'n_estimators': 120}\n",
      "mean: 0.80556, std: 0.03592, params: {'learning_rate': 0.008, 'max_depth': 6, 'min_samples_split': 6, 'n_estimators': 125}\n",
      "mean: 0.80556, std: 0.03592, params: {'learning_rate': 0.008, 'max_depth': 6, 'min_samples_split': 5, 'n_estimators': 115}\n",
      "mean: 0.80556, std: 0.03592, params: {'learning_rate': 0.008, 'max_depth': 6, 'min_samples_split': 5, 'n_estimators': 120}\n",
      "mean: 0.80444, std: 0.03725, params: {'learning_rate': 0.008, 'max_depth': 6, 'min_samples_split': 5, 'n_estimators': 125}\n",
      "mean: 0.80000, std: 0.03583, params: {'learning_rate': 0.008, 'max_depth': 7, 'min_samples_split': 7, 'n_estimators': 115}\n",
      "mean: 0.80000, std: 0.03443, params: {'learning_rate': 0.008, 'max_depth': 7, 'min_samples_split': 7, 'n_estimators': 120}\n",
      "mean: 0.80222, std: 0.03778, params: {'learning_rate': 0.008, 'max_depth': 7, 'min_samples_split': 7, 'n_estimators': 125}\n",
      "mean: 0.80222, std: 0.03576, params: {'learning_rate': 0.008, 'max_depth': 7, 'min_samples_split': 6, 'n_estimators': 115}\n",
      "mean: 0.80222, std: 0.03576, params: {'learning_rate': 0.008, 'max_depth': 7, 'min_samples_split': 6, 'n_estimators': 120}\n",
      "mean: 0.80111, std: 0.03599, params: {'learning_rate': 0.008, 'max_depth': 7, 'min_samples_split': 6, 'n_estimators': 125}\n",
      "mean: 0.79778, std: 0.03875, params: {'learning_rate': 0.008, 'max_depth': 7, 'min_samples_split': 5, 'n_estimators': 115}\n",
      "mean: 0.79778, std: 0.03875, params: {'learning_rate': 0.008, 'max_depth': 7, 'min_samples_split': 5, 'n_estimators': 120}\n",
      "mean: 0.79778, std: 0.03745, params: {'learning_rate': 0.008, 'max_depth': 7, 'min_samples_split': 5, 'n_estimators': 125}\n",
      "mean: 0.82111, std: 0.03121, params: {'learning_rate': 0.009, 'max_depth': 5, 'min_samples_split': 7, 'n_estimators': 115}\n",
      "mean: 0.82111, std: 0.03121, params: {'learning_rate': 0.009, 'max_depth': 5, 'min_samples_split': 7, 'n_estimators': 120}\n",
      "mean: 0.82000, std: 0.03174, params: {'learning_rate': 0.009, 'max_depth': 5, 'min_samples_split': 7, 'n_estimators': 125}\n",
      "mean: 0.82333, std: 0.03350, params: {'learning_rate': 0.009, 'max_depth': 5, 'min_samples_split': 6, 'n_estimators': 115}\n",
      "mean: 0.82333, std: 0.03350, params: {'learning_rate': 0.009, 'max_depth': 5, 'min_samples_split': 6, 'n_estimators': 120}\n",
      "mean: 0.82222, std: 0.03407, params: {'learning_rate': 0.009, 'max_depth': 5, 'min_samples_split': 6, 'n_estimators': 125}\n",
      "mean: 0.82333, std: 0.03350, params: {'learning_rate': 0.009, 'max_depth': 5, 'min_samples_split': 5, 'n_estimators': 115}\n",
      "mean: 0.82333, std: 0.03350, params: {'learning_rate': 0.009, 'max_depth': 5, 'min_samples_split': 5, 'n_estimators': 120}\n",
      "mean: 0.82222, std: 0.03407, params: {'learning_rate': 0.009, 'max_depth': 5, 'min_samples_split': 5, 'n_estimators': 125}\n",
      "mean: 0.80333, std: 0.03914, params: {'learning_rate': 0.009, 'max_depth': 6, 'min_samples_split': 7, 'n_estimators': 115}\n",
      "mean: 0.80333, std: 0.03914, params: {'learning_rate': 0.009, 'max_depth': 6, 'min_samples_split': 7, 'n_estimators': 120}\n",
      "mean: 0.80444, std: 0.03556, params: {'learning_rate': 0.009, 'max_depth': 6, 'min_samples_split': 7, 'n_estimators': 125}\n",
      "mean: 0.80333, std: 0.03914, params: {'learning_rate': 0.009, 'max_depth': 6, 'min_samples_split': 6, 'n_estimators': 115}\n",
      "mean: 0.80444, std: 0.04012, params: {'learning_rate': 0.009, 'max_depth': 6, 'min_samples_split': 6, 'n_estimators': 120}\n",
      "mean: 0.80556, std: 0.03660, params: {'learning_rate': 0.009, 'max_depth': 6, 'min_samples_split': 6, 'n_estimators': 125}\n",
      "mean: 0.80333, std: 0.03914, params: {'learning_rate': 0.009, 'max_depth': 6, 'min_samples_split': 5, 'n_estimators': 115}\n",
      "mean: 0.80444, std: 0.04012, params: {'learning_rate': 0.009, 'max_depth': 6, 'min_samples_split': 5, 'n_estimators': 120}\n",
      "mean: 0.80556, std: 0.03660, params: {'learning_rate': 0.009, 'max_depth': 6, 'min_samples_split': 5, 'n_estimators': 125}\n",
      "mean: 0.80000, std: 0.03944, params: {'learning_rate': 0.009, 'max_depth': 7, 'min_samples_split': 7, 'n_estimators': 115}\n",
      "mean: 0.79778, std: 0.03906, params: {'learning_rate': 0.009, 'max_depth': 7, 'min_samples_split': 7, 'n_estimators': 120}\n",
      "mean: 0.79556, std: 0.03658, params: {'learning_rate': 0.009, 'max_depth': 7, 'min_samples_split': 7, 'n_estimators': 125}\n",
      "mean: 0.80000, std: 0.03718, params: {'learning_rate': 0.009, 'max_depth': 7, 'min_samples_split': 6, 'n_estimators': 115}\n",
      "mean: 0.79778, std: 0.03678, params: {'learning_rate': 0.009, 'max_depth': 7, 'min_samples_split': 6, 'n_estimators': 120}\n",
      "mean: 0.79667, std: 0.03515, params: {'learning_rate': 0.009, 'max_depth': 7, 'min_samples_split': 6, 'n_estimators': 125}\n",
      "mean: 0.79667, std: 0.03653, params: {'learning_rate': 0.009, 'max_depth': 7, 'min_samples_split': 5, 'n_estimators': 115}\n",
      "mean: 0.79556, std: 0.03692, params: {'learning_rate': 0.009, 'max_depth': 7, 'min_samples_split': 5, 'n_estimators': 120}\n",
      "mean: 0.79333, std: 0.03590, params: {'learning_rate': 0.009, 'max_depth': 7, 'min_samples_split': 5, 'n_estimators': 125}\n",
      "mean: 0.82111, std: 0.03000, params: {'learning_rate': 0.01, 'max_depth': 5, 'min_samples_split': 7, 'n_estimators': 115}\n",
      "mean: 0.82222, std: 0.02722, params: {'learning_rate': 0.01, 'max_depth': 5, 'min_samples_split': 7, 'n_estimators': 120}\n",
      "mean: 0.82000, std: 0.02973, params: {'learning_rate': 0.01, 'max_depth': 5, 'min_samples_split': 7, 'n_estimators': 125}\n",
      "mean: 0.82333, std: 0.03238, params: {'learning_rate': 0.01, 'max_depth': 5, 'min_samples_split': 6, 'n_estimators': 115}\n",
      "mean: 0.82444, std: 0.02973, params: {'learning_rate': 0.01, 'max_depth': 5, 'min_samples_split': 6, 'n_estimators': 120}\n",
      "mean: 0.82333, std: 0.03081, params: {'learning_rate': 0.01, 'max_depth': 5, 'min_samples_split': 6, 'n_estimators': 125}\n",
      "mean: 0.82333, std: 0.03238, params: {'learning_rate': 0.01, 'max_depth': 5, 'min_samples_split': 5, 'n_estimators': 115}\n",
      "mean: 0.82444, std: 0.02973, params: {'learning_rate': 0.01, 'max_depth': 5, 'min_samples_split': 5, 'n_estimators': 120}\n",
      "mean: 0.82333, std: 0.03081, params: {'learning_rate': 0.01, 'max_depth': 5, 'min_samples_split': 5, 'n_estimators': 125}\n",
      "mean: 0.80444, std: 0.03556, params: {'learning_rate': 0.01, 'max_depth': 6, 'min_samples_split': 7, 'n_estimators': 115}\n",
      "mean: 0.80333, std: 0.03480, params: {'learning_rate': 0.01, 'max_depth': 6, 'min_samples_split': 7, 'n_estimators': 120}\n",
      "mean: 0.80667, std: 0.03692, params: {'learning_rate': 0.01, 'max_depth': 6, 'min_samples_split': 7, 'n_estimators': 125}\n",
      "mean: 0.80556, std: 0.03660, params: {'learning_rate': 0.01, 'max_depth': 6, 'min_samples_split': 6, 'n_estimators': 115}\n",
      "mean: 0.80444, std: 0.03556, params: {'learning_rate': 0.01, 'max_depth': 6, 'min_samples_split': 6, 'n_estimators': 120}\n",
      "mean: 0.80778, std: 0.03818, params: {'learning_rate': 0.01, 'max_depth': 6, 'min_samples_split': 6, 'n_estimators': 125}\n",
      "mean: 0.80556, std: 0.03660, params: {'learning_rate': 0.01, 'max_depth': 6, 'min_samples_split': 5, 'n_estimators': 115}\n",
      "mean: 0.80444, std: 0.03556, params: {'learning_rate': 0.01, 'max_depth': 6, 'min_samples_split': 5, 'n_estimators': 120}\n",
      "mean: 0.80556, std: 0.03592, params: {'learning_rate': 0.01, 'max_depth': 6, 'min_samples_split': 5, 'n_estimators': 125}\n",
      "mean: 0.79556, std: 0.03658, params: {'learning_rate': 0.01, 'max_depth': 7, 'min_samples_split': 7, 'n_estimators': 115}\n",
      "mean: 0.79889, std: 0.03529, params: {'learning_rate': 0.01, 'max_depth': 7, 'min_samples_split': 7, 'n_estimators': 120}\n",
      "mean: 0.79778, std: 0.03363, params: {'learning_rate': 0.01, 'max_depth': 7, 'min_samples_split': 7, 'n_estimators': 125}\n",
      "mean: 0.79667, std: 0.03515, params: {'learning_rate': 0.01, 'max_depth': 7, 'min_samples_split': 6, 'n_estimators': 115}\n",
      "mean: 0.79778, std: 0.03363, params: {'learning_rate': 0.01, 'max_depth': 7, 'min_samples_split': 6, 'n_estimators': 120}\n",
      "mean: 0.79778, std: 0.03363, params: {'learning_rate': 0.01, 'max_depth': 7, 'min_samples_split': 6, 'n_estimators': 125}\n",
      "mean: 0.79667, std: 0.03444, params: {'learning_rate': 0.01, 'max_depth': 7, 'min_samples_split': 5, 'n_estimators': 115}\n",
      "mean: 0.79778, std: 0.03399, params: {'learning_rate': 0.01, 'max_depth': 7, 'min_samples_split': 5, 'n_estimators': 120}\n",
      "mean: 0.79667, std: 0.03550, params: {'learning_rate': 0.01, 'max_depth': 7, 'min_samples_split': 5, 'n_estimators': 125}\n",
      "mean: 0.81222, std: 0.03387, params: {'learning_rate': 0.02, 'max_depth': 5, 'min_samples_split': 7, 'n_estimators': 115}\n",
      "mean: 0.81222, std: 0.03387, params: {'learning_rate': 0.02, 'max_depth': 5, 'min_samples_split': 7, 'n_estimators': 120}\n",
      "mean: 0.81111, std: 0.03333, params: {'learning_rate': 0.02, 'max_depth': 5, 'min_samples_split': 7, 'n_estimators': 125}\n",
      "mean: 0.81222, std: 0.03387, params: {'learning_rate': 0.02, 'max_depth': 5, 'min_samples_split': 6, 'n_estimators': 115}\n",
      "mean: 0.81222, std: 0.03350, params: {'learning_rate': 0.02, 'max_depth': 5, 'min_samples_split': 6, 'n_estimators': 120}\n",
      "mean: 0.81222, std: 0.03350, params: {'learning_rate': 0.02, 'max_depth': 5, 'min_samples_split': 6, 'n_estimators': 125}\n",
      "mean: 0.81222, std: 0.03387, params: {'learning_rate': 0.02, 'max_depth': 5, 'min_samples_split': 5, 'n_estimators': 115}\n",
      "mean: 0.81333, std: 0.03471, params: {'learning_rate': 0.02, 'max_depth': 5, 'min_samples_split': 5, 'n_estimators': 120}\n",
      "mean: 0.81222, std: 0.03350, params: {'learning_rate': 0.02, 'max_depth': 5, 'min_samples_split': 5, 'n_estimators': 125}\n",
      "mean: 0.80667, std: 0.03981, params: {'learning_rate': 0.02, 'max_depth': 6, 'min_samples_split': 7, 'n_estimators': 115}\n",
      "mean: 0.80222, std: 0.04000, params: {'learning_rate': 0.02, 'max_depth': 6, 'min_samples_split': 7, 'n_estimators': 120}\n",
      "mean: 0.80222, std: 0.04151, params: {'learning_rate': 0.02, 'max_depth': 6, 'min_samples_split': 7, 'n_estimators': 125}\n",
      "mean: 0.80444, std: 0.03855, params: {'learning_rate': 0.02, 'max_depth': 6, 'min_samples_split': 6, 'n_estimators': 115}\n",
      "mean: 0.80111, std: 0.04020, params: {'learning_rate': 0.02, 'max_depth': 6, 'min_samples_split': 6, 'n_estimators': 120}\n",
      "mean: 0.79889, std: 0.04051, params: {'learning_rate': 0.02, 'max_depth': 6, 'min_samples_split': 6, 'n_estimators': 125}\n",
      "mean: 0.80222, std: 0.04355, params: {'learning_rate': 0.02, 'max_depth': 6, 'min_samples_split': 5, 'n_estimators': 115}\n",
      "mean: 0.79778, std: 0.04269, params: {'learning_rate': 0.02, 'max_depth': 6, 'min_samples_split': 5, 'n_estimators': 120}\n",
      "mean: 0.79778, std: 0.04269, params: {'learning_rate': 0.02, 'max_depth': 6, 'min_samples_split': 5, 'n_estimators': 125}\n",
      "mean: 0.80222, std: 0.03712, params: {'learning_rate': 0.02, 'max_depth': 7, 'min_samples_split': 7, 'n_estimators': 115}\n",
      "mean: 0.80333, std: 0.03883, params: {'learning_rate': 0.02, 'max_depth': 7, 'min_samples_split': 7, 'n_estimators': 120}\n",
      "mean: 0.80444, std: 0.03823, params: {'learning_rate': 0.02, 'max_depth': 7, 'min_samples_split': 7, 'n_estimators': 125}\n",
      "mean: 0.80222, std: 0.03507, params: {'learning_rate': 0.02, 'max_depth': 7, 'min_samples_split': 6, 'n_estimators': 115}\n",
      "mean: 0.80000, std: 0.03549, params: {'learning_rate': 0.02, 'max_depth': 7, 'min_samples_split': 6, 'n_estimators': 120}\n",
      "mean: 0.80556, std: 0.03592, params: {'learning_rate': 0.02, 'max_depth': 7, 'min_samples_split': 6, 'n_estimators': 125}\n",
      "mean: 0.80444, std: 0.03304, params: {'learning_rate': 0.02, 'max_depth': 7, 'min_samples_split': 5, 'n_estimators': 115}\n",
      "mean: 0.80444, std: 0.03450, params: {'learning_rate': 0.02, 'max_depth': 7, 'min_samples_split': 5, 'n_estimators': 120}\n",
      "mean: 0.80222, std: 0.03399, params: {'learning_rate': 0.02, 'max_depth': 7, 'min_samples_split': 5, 'n_estimators': 125}\n"
     ]
    }
   ],
   "source": [
    "t0=time()\n",
    "gb_gridSearch = model_selection.GridSearchCV(gb, param_grid, cv=shuffle, n_jobs=-1)\n",
    "gb_gridSearch.fit(X=train_data[train_columns], y=train_data.Survived)\n",
    "\n",
    "print('execution time: %f'%(time()-t0))\n",
    "print('best score %0.6f'%gb_gridSearch.best_score_)\n",
    "print(gb_gridSearch.best_params_) \n",
    "for val in gb_gridSearch.grid_scores_:\n",
    "    print(val)"
   ]
  },
  {
   "cell_type": "code",
   "execution_count": null,
   "metadata": {
    "collapsed": true
   },
   "outputs": [],
   "source": []
  },
  {
   "cell_type": "code",
   "execution_count": 996,
   "metadata": {
    "collapsed": false
   },
   "outputs": [
    {
     "name": "stdout",
     "output_type": "stream",
     "text": [
      "outer cv mean value is 0.824444\n"
     ]
    }
   ],
   "source": [
    "gb_best = gb_gridSearch.best_estimator_\n",
    "\n",
    "outer_CV_score = model_selection.cross_val_score(gb_best, train_data[train_columns], train_data.Survived, n_jobs=-1, cv=shuffle)\n",
    "print('outer cv mean value is %f' %outer_CV_score.mean())"
   ]
  },
  {
   "cell_type": "code",
   "execution_count": 1091,
   "metadata": {
    "collapsed": false
   },
   "outputs": [
    {
     "data": {
      "text/plain": [
       "array([0.14749709, 0.06441363, 0.02287875, 0.01636389, 0.5827547 ,\n",
       "       0.00580128, 0.00111002, 0.00416755, 0.00437775, 0.05111514,\n",
       "       0.04059586, 0.05892434])"
      ]
     },
     "execution_count": 1091,
     "metadata": {},
     "output_type": "execute_result"
    }
   ],
   "source": [
    "gb_best.feature_importances_"
   ]
  },
  {
   "cell_type": "code",
   "execution_count": 985,
   "metadata": {
    "collapsed": false
   },
   "outputs": [
    {
     "data": {
      "text/plain": [
       "GradientBoostingClassifier(criterion='friedman_mse', init=None,\n",
       "              learning_rate=0.01, loss='deviance', max_depth=5,\n",
       "              max_features=None, max_leaf_nodes=None,\n",
       "              min_impurity_decrease=0.0, min_impurity_split=None,\n",
       "              min_samples_leaf=1, min_samples_split=6,\n",
       "              min_weight_fraction_leaf=0.0, n_estimators=120,\n",
       "              presort='auto', random_state=None, subsample=1.0, verbose=0,\n",
       "              warm_start=False)"
      ]
     },
     "execution_count": 985,
     "metadata": {},
     "output_type": "execute_result"
    }
   ],
   "source": [
    "gb_best.fit(train_data[train_columns], train_data.Survived)"
   ]
  },
  {
   "cell_type": "code",
   "execution_count": 986,
   "metadata": {
    "collapsed": false
   },
   "outputs": [
    {
     "data": {
      "image/png": "[encoded data removed]",
      "text/plain": [
       "<matplotlib.figure.Figure at 0x1c6b0ece9b0>"
      ]
     },
     "metadata": {},
     "output_type": "display_data"
    }
   ],
   "source": [
    "plotLearningCurve(gb_best, train_data[train_columns], train_data.Survived, cv=shuffle, \n",
    "                  ylim=(0.65,0.95), title='Learning Curve: Titanic')"
   ]
  },
  {
   "cell_type": "code",
   "execution_count": 990,
   "metadata": {
    "collapsed": true
   },
   "outputs": [],
   "source": [
    "test_predictions = gb_best.predict(test_data).astype(int)"
   ]
  },
  {
   "cell_type": "code",
   "execution_count": 991,
   "metadata": {
    "collapsed": false
   },
   "outputs": [],
   "source": [
    "output = pd.DataFrame({ 'PassengerId' : ids, 'Survived': test_predictions })\n",
    "output.to_csv('submission.csv', index=False)"
   ]
  },
  {
   "cell_type": "code",
   "execution_count": 992,
   "metadata": {
    "collapsed": false
   },
   "outputs": [
    {
     "data": {
      "text/html": [
       "<div>\n",
       "<style scoped>\n",
       "    .dataframe tbody tr th:only-of-type {\n",
       "        vertical-align: middle;\n",
       "    }\n",
       "\n",
       "    .dataframe tbody tr th {\n",
       "        vertical-align: top;\n",
       "    }\n",
       "\n",
       "    .dataframe thead th {\n",
       "        text-align: right;\n",
       "    }\n",
       "</style>\n",
       "<table border=\"1\" class=\"dataframe\">\n",
       "  <thead>\n",
       "    <tr style=\"text-align: right;\">\n",
       "      <th></th>\n",
       "      <th>PassengerId</th>\n",
       "      <th>Survived</th>\n",
       "    </tr>\n",
       "  </thead>\n",
       "  <tbody>\n",
       "    <tr>\n",
       "      <th>0</th>\n",
       "      <td>892</td>\n",
       "      <td>0</td>\n",
       "    </tr>\n",
       "    <tr>\n",
       "      <th>1</th>\n",
       "      <td>893</td>\n",
       "      <td>0</td>\n",
       "    </tr>\n",
       "    <tr>\n",
       "      <th>2</th>\n",
       "      <td>894</td>\n",
       "      <td>0</td>\n",
       "    </tr>\n",
       "    <tr>\n",
       "      <th>3</th>\n",
       "      <td>895</td>\n",
       "      <td>0</td>\n",
       "    </tr>\n",
       "    <tr>\n",
       "      <th>4</th>\n",
       "      <td>896</td>\n",
       "      <td>0</td>\n",
       "    </tr>\n",
       "  </tbody>\n",
       "</table>\n",
       "</div>"
      ],
      "text/plain": [
       "   PassengerId  Survived\n",
       "0          892         0\n",
       "1          893         0\n",
       "2          894         0\n",
       "3          895         0\n",
       "4          896         0"
      ]
     },
     "execution_count": 992,
     "metadata": {},
     "output_type": "execute_result"
    }
   ],
   "source": [
    "output.head()"
   ]
  },
  {
   "cell_type": "code",
   "execution_count": null,
   "metadata": {
    "collapsed": true
   },
   "outputs": [],
   "source": []
  }
 ],
 "metadata": {
  "kernelspec": {
   "display_name": "Python 3",
   "language": "python",
   "name": "python3"
  },
  "language_info": {
   "codemirror_mode": {
    "name": "ipython",
    "version": 3
   },
   "file_extension": ".py",
   "mimetype": "text/x-python",
   "name": "python",
   "nbconvert_exporter": "python",
   "pygments_lexer": "ipython3",
   "version": "3.5.5"
  }
 },
 "nbformat": 4,
 "nbformat_minor": 2
}
